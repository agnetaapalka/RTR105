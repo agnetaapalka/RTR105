{
 "cells": [
  {
   "cell_type": "markdown",
   "metadata": {},
   "source": [
    "# 1. laboratorijas darbs - Teilora rinda + cietais rieksts\n"
   ]
  },
  {
   "cell_type": "markdown",
   "metadata": {},
   "source": [
    "Dotā funkcija: y=(1+x)*exp(x)"
   ]
  },
  {
   "cell_type": "markdown",
   "metadata": {},
   "source": [
    "No bibliotēkas _math_ importējam mums nepieciešamo exp funkciju:"
   ]
  },
  {
   "cell_type": "code",
   "execution_count": 3,
   "metadata": {},
   "outputs": [],
   "source": [
    "from math import exp"
   ]
  },
  {
   "cell_type": "markdown",
   "metadata": {},
   "source": [
    "Argumentam x  ir piešķirta vērtība 3.14 un y definējam kā __(1+x)*exp(x)__, izmantojot importēto exp funkciju un iegūstam funkcijas vērtību y(x):  "
   ]
  },
  {
   "cell_type": "code",
   "execution_count": 47,
   "metadata": {
    "scrolled": true
   },
   "outputs": [
    {
     "name": "stdout",
     "output_type": "stream",
     "text": [
      "y(x)=(1+x)*e(x) funkcijas aprēķināšana:\n",
      "Lietotāj, lūdzu, ievadi argumentu (x): 3.14\n",
      "y(3.14)=(1+3.14)*e(3.14)=95.65    /izmantojot bibliotēkas exp f-ju\n",
      "\n"
     ]
    }
   ],
   "source": [
    "print(\"y(x)=(1+x)*e(x) funkcijas aprēķināšana:\")\n",
    "x = float(input(\"Lietotāj, lūdzu, ievadi argumentu (x): \"))\n",
    "y = exp(x)*(1+x)\n",
    "print(\"y(%0.2f)=(1+%0.2f)*e(%0.2f)=%0.2f\"%(x,x,x,y),\"   /izmantojot bibliotēkas exp f-ju\")\n",
    "print()"
   ]
  },
  {
   "cell_type": "markdown",
   "metadata": {},
   "source": [
    "Definējam savu funkciju un piešķiram vērtības argumentiem _k (summas locekļu skaits)_, _a (attiecīgā soļa loceklis)_, _S (summēšanā iegūtā vērtība)_ un izprintējam 0to funkcijas summēšanas locekli (yy piešķiram __mana_exp_f_ja(x)__ vērtību): "
   ]
  },
  {
   "cell_type": "code",
   "execution_count": 37,
   "metadata": {},
   "outputs": [
    {
     "name": "stdout",
     "output_type": "stream",
     "text": [
      "a0 = 4.14 S0 = 4.14\n"
     ]
    }
   ],
   "source": [
    "def mana_exp_f_ja(x):\n",
    "   k = 0\n",
    "   a = ((1+x)*x**k)/(1)\n",
    "   S = a\n",
    "   print(\"a0 = %0.2f S0 = %0.2f\"%(a,S))\n",
    "yy = mana_exp_f_ja(x)\n"
   ]
  },
  {
   "cell_type": "markdown",
   "metadata": {},
   "source": [
    "Izveidojam ciklu, kurā tiek izmantoti 1000 summas locekļi un attiecīgās f-jas aprēķinātais rekurences reizinātājs _R = x/k_, lai aprēķinātu f-jas vērtību. Izmantojot _for_, no visa cikla izprintējam tikai 999to un 1000to summēšanas vērtību (yy piešķiram __mana_exp_f_ja(x)__ vērtību): "
   ]
  },
  {
   "cell_type": "code",
   "execution_count": 38,
   "metadata": {},
   "outputs": [
    {
     "name": "stdout",
     "output_type": "stream",
     "text": [
      "a0 = 4.14 S0 = 4.14\n",
      "a999 = 0.00 S999 = 95.65\n",
      "a1000 = 0.00 S1000 = 95.65\n"
     ]
    }
   ],
   "source": [
    "def mana_exp_f_ja(x):\n",
    "   k = 0\n",
    "   a = ((1+x)*x**k)/(1)\n",
    "   S = a\n",
    "   print(\"a0 = %0.2f S0 = %0.2f\"%(a,S))\n",
    "\n",
    "   while k < 1000:\n",
    "      k = k + 1\n",
    "      R = x / k\n",
    "      a = a * R\n",
    "      S = S + a\n",
    "   for k in [999, 1000]:\n",
    "      print(\"a%d = %0.2f S%d = %0.2f\"%(k,a,k,S))\n",
    "   return S\n",
    "\n",
    "yy = mana_exp_f_ja(x)"
   ]
  },
  {
   "cell_type": "markdown",
   "metadata": {},
   "source": [
    "Pēc summēšanas cikla izpildes 1000tais summēšanas loceklis ir 95.65, kas attiecīgi ir arī __mana_exp_f_ja__ iegūtā vērtība, to arī izprintējam: "
   ]
  },
  {
   "cell_type": "code",
   "execution_count": 34,
   "metadata": {},
   "outputs": [
    {
     "name": "stdout",
     "output_type": "stream",
     "text": [
      "y(3.14)=(1+3.14)*e(3.14) caur summu: 95.65\n",
      "\n"
     ]
    }
   ],
   "source": [
    "print(\"y(%0.2f)=(1+%0.2f)*e(%0.2f) caur summu: %0.2f\"%(x,x,x,yy))\n",
    "print()"
   ]
  },
  {
   "cell_type": "markdown",
   "metadata": {},
   "source": [
    "Pēc dotajiem norādījumiem izvadam arī summas izteiksmi un rekurences funkcionālā reizinātāja izteiksmi, izmantojot __ASCII__ simbolus: "
   ]
  },
  {
   "cell_type": "code",
   "execution_count": 39,
   "metadata": {},
   "outputs": [
    {
     "name": "stdout",
     "output_type": "stream",
     "text": [
      "            1000\n",
      "         _________\n",
      "         \\ \n",
      "          \\                       k\n",
      "           \\         ( 1 + x ) * x\n",
      "(1+x)*e(x) = >     _____________________ ...,kur -∞ < x < +∞\n",
      "           /\n",
      "          /                 k!\n",
      "         /________\n",
      "\n",
      "             k=0\n",
      "\n",
      "                            x\n",
      "rekurences reizinātājs:  ________\n",
      "\n",
      "                            k\n"
     ]
    }
   ],
   "source": [
    "print('            1000')\n",
    "print('         _________')\n",
    "print('         \\ ')\n",
    "print('          \\                       k')\n",
    "print('           \\         ( 1 + x ) * x')\n",
    "print('(1+x)*e(x) = >     _____________________ ...,kur -\\u221E < x < +\\u221E')  \n",
    "print('           /')\n",
    "print('          /                 k!')\n",
    "print('         /________')\n",
    "print()\n",
    "print('             k=0')\n",
    "print()\n",
    "\n",
    "print('                            x')\n",
    "print('rekurences reizinātājs:  ________')\n",
    "print() \n",
    "print('                            k')"
   ]
  },
  {
   "cell_type": "markdown",
   "metadata": {},
   "source": [
    "## CIETAIS RIEKSTS"
   ]
  },
  {
   "cell_type": "markdown",
   "metadata": {},
   "source": [
    "Cietajā riekstā jānoskaidro summas lockeļu skaits, kas jāizmanto, lai kļūda starp teorētisko un praktisko, ar summēšanu iegūto funkcijas tuvinājumu, būtu mazāka par 0.01. Šo locekļu skaitu ciklā jau iepriekš un arī tagad apzīmējam ar k un skaitīšanu veicam ar k=k+1. Lai to izdarītu, iepriekš lietotajā ciklā nomainam nosacījumu. Attiecīgi tagad cikls balstās uz nosacījumu __y-S >= 0.01__, tātad cikls turpinās tik ilgi, kamēr patiesās vērtības (y) un iegūtās vērtības (S) starpība ir lielāka vai vienāda ar 0.01. Kad šī starpība ir mazāka, cikls ir pabeigts. Izprintējam šo locekļu skaitu:"
   ]
  },
  {
   "cell_type": "code",
   "execution_count": 45,
   "metadata": {},
   "outputs": [
    {
     "name": "stdout",
     "output_type": "stream",
     "text": [
      "a0 = 4.14 S0 = 4.14\n",
      "a1 = 13.00 S1 = 17.14\n",
      "a2 = 20.41 S2 = 37.55\n",
      "a3 = 21.36 S3 = 58.91\n",
      "a4 = 16.77 S4 = 75.68\n",
      "a5 = 10.53 S5 = 86.21\n",
      "a6 = 5.51 S6 = 91.72\n",
      "a7 = 2.47 S7 = 94.19\n",
      "a8 = 0.97 S8 = 95.16\n",
      "a9 = 0.34 S9 = 95.50\n",
      "a10 = 0.11 S10 = 95.61\n",
      "a11 = 0.03 S11 = 95.64\n",
      "a12 = 0.01 S12 = 95.65\n",
      "Summas locekļu skaits, kas jāizmanto, lai kļūda starp teorētisko un praktisko, ar summēšanu iegūto funkcijas tuvinājumu, būtu mazāka par 0.01 ir: 12\n"
     ]
    }
   ],
   "source": [
    "def mana_exp_f_ja(x):\n",
    "   k = 0\n",
    "   a = ((1+x)*x**k)/(1)\n",
    "   S = a\n",
    "   print(\"a0 = %0.2f S0 = %0.2f\"%(a,S))\n",
    "\n",
    "   while y-S >= 0.01:\n",
    "      k = k + 1\n",
    "      R = x / k\n",
    "      a = a * R\n",
    "      S = S + a\n",
    "      print(\"a%d = %0.2f S%d = %0.2f\"%(k,a,k,S))\n",
    "   print('Summas locekļu skaits, kas jāizmanto, lai kļūda starp teorētisko un praktisko, ar summēšanu iegūto funkcijas tuvinājumu, būtu mazāka par 0.01 ir:',k)\n",
    "   return S\n",
    "yy = mana_exp_f_ja(x)"
   ]
  }
 ],
 "metadata": {
  "kernelspec": {
   "display_name": "Python 3",
   "language": "python",
   "name": "python3"
  },
  "language_info": {
   "codemirror_mode": {
    "name": "ipython",
    "version": 3
   },
   "file_extension": ".py",
   "mimetype": "text/x-python",
   "name": "python",
   "nbconvert_exporter": "python",
   "pygments_lexer": "ipython3",
   "version": "3.7.0"
  }
 },
 "nbformat": 4,
 "nbformat_minor": 2
}
