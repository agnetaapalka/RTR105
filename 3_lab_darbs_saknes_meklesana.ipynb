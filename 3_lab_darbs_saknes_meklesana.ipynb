{
 "cells": [
  {
   "cell_type": "markdown",
   "metadata": {},
   "source": [
    "# 3. laboratorijas darbs - saknes meklēšana"
   ]
  },
  {
   "cell_type": "markdown",
   "metadata": {},
   "source": [
    "Dotā funkcija: y=(1+x)*exp(x)"
   ]
  },
  {
   "cell_type": "markdown",
   "metadata": {},
   "source": [
    "No bibliotēkas _math_ importējam mums nepieciešamās funkcijas _exp_ un _fabs_; no _matplotlib_ importējam _pyplot_ zīmēšanai; no _numpy_ importējam _linspace_:"
   ]
  },
  {
   "cell_type": "code",
   "execution_count": 1,
   "metadata": {},
   "outputs": [],
   "source": [
    "from math import exp , fabs\n",
    "from matplotlib import pyplot as plt\n",
    "from numpy import linspace, exp"
   ]
  },
  {
   "cell_type": "markdown",
   "metadata": {},
   "source": [
    "Definējam savu funkciju _f(x)_:"
   ]
  },
  {
   "cell_type": "code",
   "execution_count": 2,
   "metadata": {},
   "outputs": [],
   "source": [
    "def f(x):\n",
    "   return exp(x)*(1+x)"
   ]
  },
  {
   "cell_type": "markdown",
   "metadata": {},
   "source": [
    "Definējam x argumenta robežas:"
   ]
  },
  {
   "cell_type": "code",
   "execution_count": 3,
   "metadata": {},
   "outputs": [],
   "source": [
    "a = -2\n",
    "b = 2"
   ]
  },
  {
   "cell_type": "markdown",
   "metadata": {},
   "source": [
    "Aprēķinām funkcijas vērtības dotajos punktos:"
   ]
  },
  {
   "cell_type": "code",
   "execution_count": 4,
   "metadata": {},
   "outputs": [],
   "source": [
    "funa = f(a)\n",
    "funb = f(b)"
   ]
  },
  {
   "cell_type": "markdown",
   "metadata": {},
   "source": [
    "Pārbaudām, vai dotajā intervālā ir saknes un definējam precizitāti, ar kādu meklēsim sakni:"
   ]
  },
  {
   "cell_type": "code",
   "execution_count": 5,
   "metadata": {},
   "outputs": [
    {
     "name": "stdout",
     "output_type": "stream",
     "text": [
      "Dotajā intervālā sakne(s) ir!\n"
     ]
    }
   ],
   "source": [
    "if ( funa * funb > 0.0 ):\n",
    "   print (\"Dotajā intervālā [%s, %s] sakņu nav\")%(a,b)\n",
    "else:\n",
    "   print (\"Dotajā intervālā sakne(s) ir!\")\n",
    "deltax = 0.0001"
   ]
  },
  {
   "cell_type": "markdown",
   "metadata": {},
   "source": [
    "Sašaurinām saknes meklēšanas robežas tik ilgi, līdz sakne ar atbilstošu precizitāti ir atrasta un izprintējam to:"
   ]
  },
  {
   "cell_type": "code",
   "execution_count": 6,
   "metadata": {},
   "outputs": [
    {
     "name": "stdout",
     "output_type": "stream",
     "text": [
      "Sakne ir:  -0.99993896484375\n"
     ]
    }
   ],
   "source": [
    "while ( fabs(b-a) > deltax ):\n",
    "   x = (a+b)/2; funx = f(x)\n",
    "   if ( funa*funx < 0. ):\n",
    "      b = x\n",
    "   else:\n",
    "      a = x\n",
    "\n",
    "print (\"Sakne ir: \", x)"
   ]
  },
  {
   "cell_type": "markdown",
   "metadata": {},
   "source": [
    "# Pārbaude"
   ]
  },
  {
   "cell_type": "markdown",
   "metadata": {},
   "source": [
    "Uzzīmējot grafiku, pierāda, ka atrastais skaitlis ir funkcijas sakne:"
   ]
  },
  {
   "cell_type": "code",
   "execution_count": 9,
   "metadata": {},
   "outputs": [
    {
     "data": {
      "image/png": "[encoded data removed]",
      "text/plain": [
       "<Figure size 432x288 with 1 Axes>"
      ]
     },
     "metadata": {
      "needs_background": "light"
     },
     "output_type": "display_data"
    }
   ],
   "source": [
    "m = linspace(-2, 0, 100)\n",
    "n = (1+m)*exp(m)\n",
    "plt.grid()\n",
    "plt.xlabel(\"x\")\n",
    "plt.ylabel(\"f(x)\")\n",
    "plt.title(\"Funkcijas $(1+x)*exp(x)$ sakne\")\n",
    "plt.plot(x, 0, \"ro\", markersize = 5)\n",
    "plt.plot(m, n)\n",
    "plt.show()"
   ]
  }
 ],
 "metadata": {
  "kernelspec": {
   "display_name": "Python 3",
   "language": "python",
   "name": "python3"
  },
  "language_info": {
   "codemirror_mode": {
    "name": "ipython",
    "version": 3
   },
   "file_extension": ".py",
   "mimetype": "text/x-python",
   "name": "python",
   "nbconvert_exporter": "python",
   "pygments_lexer": "ipython3",
   "version": "3.7.0"
  }
 },
 "nbformat": 4,
 "nbformat_minor": 2
}
